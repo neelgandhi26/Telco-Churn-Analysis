{
 "cells": [
  {
   "cell_type": "markdown",
   "metadata": {},
   "source": [
    "# Importing Libraries"
   ]
  },
  {
   "cell_type": "code",
   "execution_count": 1,
   "metadata": {},
   "outputs": [
    {
     "name": "stderr",
     "output_type": "stream",
     "text": [
      "Warning message:\n",
      "\"package 'tidyverse' was built under R version 3.6.3\"-- Attaching packages --------------------------------------- tidyverse 1.3.0 --\n",
      "v ggplot2 3.3.1     v purrr   0.3.4\n",
      "v tibble  3.0.1     v dplyr   1.0.0\n",
      "v tidyr   1.1.0     v stringr 1.4.0\n",
      "v readr   1.3.1     v forcats 0.4.0\n",
      "Warning message:\n",
      "\"package 'ggplot2' was built under R version 3.6.3\"Warning message:\n",
      "\"package 'tibble' was built under R version 3.6.3\"Warning message:\n",
      "\"package 'tidyr' was built under R version 3.6.3\"Warning message:\n",
      "\"package 'purrr' was built under R version 3.6.3\"Warning message:\n",
      "\"package 'dplyr' was built under R version 3.6.3\"-- Conflicts ------------------------------------------ tidyverse_conflicts() --\n",
      "x dplyr::filter() masks stats::filter()\n",
      "x dplyr::lag()    masks stats::lag()\n",
      "Loading required package: lattice\n",
      "\n",
      "Attaching package: 'caret'\n",
      "\n",
      "The following object is masked from 'package:purrr':\n",
      "\n",
      "    lift\n",
      "\n",
      "Warning message:\n",
      "\"package 'e1071' was built under R version 3.6.3\"corrplot 0.84 loaded\n",
      "Warning message:\n",
      "\"package 'rpart.plot' was built under R version 3.6.3\""
     ]
    }
   ],
   "source": [
    "library(tidyverse)\n",
    "library(caret)\n",
    "library(e1071)\n",
    "library(corrplot)\n",
    "library(caTools)\n",
    "library(rpart)\n",
    "library(rpart.plot)"
   ]
  },
  {
   "cell_type": "markdown",
   "metadata": {},
   "source": [
    "# Importing and Describing Data"
   ]
  },
  {
   "cell_type": "code",
   "execution_count": 2,
   "metadata": {},
   "outputs": [],
   "source": [
    "df <- read.csv('C://Users//neelg//Downloads//WA_Fn-UseC_-Telco-Customer-Churn.csv')"
   ]
  },
  {
   "cell_type": "code",
   "execution_count": 3,
   "metadata": {},
   "outputs": [
    {
     "data": {
      "text/html": [
       "<ol class=list-inline>\n",
       "\t<li>7043</li>\n",
       "\t<li>21</li>\n",
       "</ol>\n"
      ],
      "text/latex": [
       "\\begin{enumerate*}\n",
       "\\item 7043\n",
       "\\item 21\n",
       "\\end{enumerate*}\n"
      ],
      "text/markdown": [
       "1. 7043\n",
       "2. 21\n",
       "\n",
       "\n"
      ],
      "text/plain": [
       "[1] 7043   21"
      ]
     },
     "metadata": {},
     "output_type": "display_data"
    }
   ],
   "source": [
    "dim(df)"
   ]
  },
  {
   "cell_type": "code",
   "execution_count": 4,
   "metadata": {},
   "outputs": [
    {
     "data": {
      "text/html": [
       "<ol class=list-inline>\n",
       "\t<li>'customerID'</li>\n",
       "\t<li>'gender'</li>\n",
       "\t<li>'SeniorCitizen'</li>\n",
       "\t<li>'Partner'</li>\n",
       "\t<li>'Dependents'</li>\n",
       "\t<li>'tenure'</li>\n",
       "\t<li>'PhoneService'</li>\n",
       "\t<li>'MultipleLines'</li>\n",
       "\t<li>'InternetService'</li>\n",
       "\t<li>'OnlineSecurity'</li>\n",
       "\t<li>'OnlineBackup'</li>\n",
       "\t<li>'DeviceProtection'</li>\n",
       "\t<li>'TechSupport'</li>\n",
       "\t<li>'StreamingTV'</li>\n",
       "\t<li>'StreamingMovies'</li>\n",
       "\t<li>'Contract'</li>\n",
       "\t<li>'PaperlessBilling'</li>\n",
       "\t<li>'PaymentMethod'</li>\n",
       "\t<li>'MonthlyCharges'</li>\n",
       "\t<li>'TotalCharges'</li>\n",
       "\t<li>'Churn'</li>\n",
       "</ol>\n"
      ],
      "text/latex": [
       "\\begin{enumerate*}\n",
       "\\item 'customerID'\n",
       "\\item 'gender'\n",
       "\\item 'SeniorCitizen'\n",
       "\\item 'Partner'\n",
       "\\item 'Dependents'\n",
       "\\item 'tenure'\n",
       "\\item 'PhoneService'\n",
       "\\item 'MultipleLines'\n",
       "\\item 'InternetService'\n",
       "\\item 'OnlineSecurity'\n",
       "\\item 'OnlineBackup'\n",
       "\\item 'DeviceProtection'\n",
       "\\item 'TechSupport'\n",
       "\\item 'StreamingTV'\n",
       "\\item 'StreamingMovies'\n",
       "\\item 'Contract'\n",
       "\\item 'PaperlessBilling'\n",
       "\\item 'PaymentMethod'\n",
       "\\item 'MonthlyCharges'\n",
       "\\item 'TotalCharges'\n",
       "\\item 'Churn'\n",
       "\\end{enumerate*}\n"
      ],
      "text/markdown": [
       "1. 'customerID'\n",
       "2. 'gender'\n",
       "3. 'SeniorCitizen'\n",
       "4. 'Partner'\n",
       "5. 'Dependents'\n",
       "6. 'tenure'\n",
       "7. 'PhoneService'\n",
       "8. 'MultipleLines'\n",
       "9. 'InternetService'\n",
       "10. 'OnlineSecurity'\n",
       "11. 'OnlineBackup'\n",
       "12. 'DeviceProtection'\n",
       "13. 'TechSupport'\n",
       "14. 'StreamingTV'\n",
       "15. 'StreamingMovies'\n",
       "16. 'Contract'\n",
       "17. 'PaperlessBilling'\n",
       "18. 'PaymentMethod'\n",
       "19. 'MonthlyCharges'\n",
       "20. 'TotalCharges'\n",
       "21. 'Churn'\n",
       "\n",
       "\n"
      ],
      "text/plain": [
       " [1] \"customerID\"       \"gender\"           \"SeniorCitizen\"    \"Partner\"         \n",
       " [5] \"Dependents\"       \"tenure\"           \"PhoneService\"     \"MultipleLines\"   \n",
       " [9] \"InternetService\"  \"OnlineSecurity\"   \"OnlineBackup\"     \"DeviceProtection\"\n",
       "[13] \"TechSupport\"      \"StreamingTV\"      \"StreamingMovies\"  \"Contract\"        \n",
       "[17] \"PaperlessBilling\" \"PaymentMethod\"    \"MonthlyCharges\"   \"TotalCharges\"    \n",
       "[21] \"Churn\"           "
      ]
     },
     "metadata": {},
     "output_type": "display_data"
    }
   ],
   "source": [
    "colnames(df)"
   ]
  },
  {
   "cell_type": "code",
   "execution_count": 5,
   "metadata": {},
   "outputs": [
    {
     "data": {
      "text/plain": [
       "      customerID      gender     SeniorCitizen    Partner    Dependents\n",
       " 0002-ORFBO:   1   Female:3488   Min.   :0.0000   No :3641   No :4933  \n",
       " 0003-MKNFE:   1   Male  :3555   1st Qu.:0.0000   Yes:3402   Yes:2110  \n",
       " 0004-TLHLJ:   1                 Median :0.0000                        \n",
       " 0011-IGKFF:   1                 Mean   :0.1621                        \n",
       " 0013-EXCHZ:   1                 3rd Qu.:0.0000                        \n",
       " 0013-MHZWF:   1                 Max.   :1.0000                        \n",
       " (Other)   :7037                                                       \n",
       "     tenure      PhoneService          MultipleLines     InternetService\n",
       " Min.   : 0.00   No : 682     No              :3390   DSL        :2421  \n",
       " 1st Qu.: 9.00   Yes:6361     No phone service: 682   Fiber optic:3096  \n",
       " Median :29.00                Yes             :2971   No         :1526  \n",
       " Mean   :32.37                                                          \n",
       " 3rd Qu.:55.00                                                          \n",
       " Max.   :72.00                                                          \n",
       "                                                                        \n",
       "             OnlineSecurity              OnlineBackup \n",
       " No                 :3498   No                 :3088  \n",
       " No internet service:1526   No internet service:1526  \n",
       " Yes                :2019   Yes                :2429  \n",
       "                                                      \n",
       "                                                      \n",
       "                                                      \n",
       "                                                      \n",
       "            DeviceProtection              TechSupport  \n",
       " No                 :3095    No                 :3473  \n",
       " No internet service:1526    No internet service:1526  \n",
       " Yes                :2422    Yes                :2044  \n",
       "                                                       \n",
       "                                                       \n",
       "                                                       \n",
       "                                                       \n",
       "              StreamingTV              StreamingMovies           Contract   \n",
       " No                 :2810   No                 :2785   Month-to-month:3875  \n",
       " No internet service:1526   No internet service:1526   One year      :1473  \n",
       " Yes                :2707   Yes                :2732   Two year      :1695  \n",
       "                                                                            \n",
       "                                                                            \n",
       "                                                                            \n",
       "                                                                            \n",
       " PaperlessBilling                   PaymentMethod  MonthlyCharges  \n",
       " No :2872         Bank transfer (automatic):1544   Min.   : 18.25  \n",
       " Yes:4171         Credit card (automatic)  :1522   1st Qu.: 35.50  \n",
       "                  Electronic check         :2365   Median : 70.35  \n",
       "                  Mailed check             :1612   Mean   : 64.76  \n",
       "                                                   3rd Qu.: 89.85  \n",
       "                                                   Max.   :118.75  \n",
       "                                                                   \n",
       "  TotalCharges    Churn     \n",
       " Min.   :  18.8   No :5174  \n",
       " 1st Qu.: 401.4   Yes:1869  \n",
       " Median :1397.5             \n",
       " Mean   :2283.3             \n",
       " 3rd Qu.:3794.7             \n",
       " Max.   :8684.8             \n",
       " NA's   :11                 "
      ]
     },
     "metadata": {},
     "output_type": "display_data"
    }
   ],
   "source": [
    "summary(df)"
   ]
  },
  {
   "cell_type": "code",
   "execution_count": 6,
   "metadata": {},
   "outputs": [
    {
     "name": "stdout",
     "output_type": "stream",
     "text": [
      "'data.frame':\t7043 obs. of  21 variables:\n",
      " $ customerID      : Factor w/ 7043 levels \"0002-ORFBO\",\"0003-MKNFE\",..: 5376 3963 2565 5536 6512 6552 1003 4771 5605 4535 ...\n",
      " $ gender          : Factor w/ 2 levels \"Female\",\"Male\": 1 2 2 2 1 1 2 1 1 2 ...\n",
      " $ SeniorCitizen   : int  0 0 0 0 0 0 0 0 0 0 ...\n",
      " $ Partner         : Factor w/ 2 levels \"No\",\"Yes\": 2 1 1 1 1 1 1 1 2 1 ...\n",
      " $ Dependents      : Factor w/ 2 levels \"No\",\"Yes\": 1 1 1 1 1 1 2 1 1 2 ...\n",
      " $ tenure          : int  1 34 2 45 2 8 22 10 28 62 ...\n",
      " $ PhoneService    : Factor w/ 2 levels \"No\",\"Yes\": 1 2 2 1 2 2 2 1 2 2 ...\n",
      " $ MultipleLines   : Factor w/ 3 levels \"No\",\"No phone service\",..: 2 1 1 2 1 3 3 2 3 1 ...\n",
      " $ InternetService : Factor w/ 3 levels \"DSL\",\"Fiber optic\",..: 1 1 1 1 2 2 2 1 2 1 ...\n",
      " $ OnlineSecurity  : Factor w/ 3 levels \"No\",\"No internet service\",..: 1 3 3 3 1 1 1 3 1 3 ...\n",
      " $ OnlineBackup    : Factor w/ 3 levels \"No\",\"No internet service\",..: 3 1 3 1 1 1 3 1 1 3 ...\n",
      " $ DeviceProtection: Factor w/ 3 levels \"No\",\"No internet service\",..: 1 3 1 3 1 3 1 1 3 1 ...\n",
      " $ TechSupport     : Factor w/ 3 levels \"No\",\"No internet service\",..: 1 1 1 3 1 1 1 1 3 1 ...\n",
      " $ StreamingTV     : Factor w/ 3 levels \"No\",\"No internet service\",..: 1 1 1 1 1 3 3 1 3 1 ...\n",
      " $ StreamingMovies : Factor w/ 3 levels \"No\",\"No internet service\",..: 1 1 1 1 1 3 1 1 3 1 ...\n",
      " $ Contract        : Factor w/ 3 levels \"Month-to-month\",..: 1 2 1 2 1 1 1 1 1 2 ...\n",
      " $ PaperlessBilling: Factor w/ 2 levels \"No\",\"Yes\": 2 1 2 1 2 2 2 1 2 1 ...\n",
      " $ PaymentMethod   : Factor w/ 4 levels \"Bank transfer (automatic)\",..: 3 4 4 1 3 3 2 4 3 1 ...\n",
      " $ MonthlyCharges  : num  29.9 57 53.9 42.3 70.7 ...\n",
      " $ TotalCharges    : num  29.9 1889.5 108.2 1840.8 151.7 ...\n",
      " $ Churn           : Factor w/ 2 levels \"No\",\"Yes\": 1 1 2 1 2 2 1 1 2 1 ...\n"
     ]
    }
   ],
   "source": [
    "str(df)"
   ]
  },
  {
   "cell_type": "code",
   "execution_count": 7,
   "metadata": {},
   "outputs": [],
   "source": [
    "df$customerID <- NULL"
   ]
  },
  {
   "cell_type": "code",
   "execution_count": 8,
   "metadata": {},
   "outputs": [],
   "source": [
    "df$SeniorCitizen <- as.factor(df$SeniorCitizen)"
   ]
  },
  {
   "cell_type": "markdown",
   "metadata": {},
   "source": [
    "## Finding and Removing Missing Data"
   ]
  },
  {
   "cell_type": "code",
   "execution_count": 9,
   "metadata": {},
   "outputs": [
    {
     "data": {
      "text/html": [
       "<dl class=dl-horizontal>\n",
       "\t<dt>gender</dt>\n",
       "\t\t<dd>0</dd>\n",
       "\t<dt>SeniorCitizen</dt>\n",
       "\t\t<dd>0</dd>\n",
       "\t<dt>Partner</dt>\n",
       "\t\t<dd>0</dd>\n",
       "\t<dt>Dependents</dt>\n",
       "\t\t<dd>0</dd>\n",
       "\t<dt>tenure</dt>\n",
       "\t\t<dd>0</dd>\n",
       "\t<dt>PhoneService</dt>\n",
       "\t\t<dd>0</dd>\n",
       "\t<dt>MultipleLines</dt>\n",
       "\t\t<dd>0</dd>\n",
       "\t<dt>InternetService</dt>\n",
       "\t\t<dd>0</dd>\n",
       "\t<dt>OnlineSecurity</dt>\n",
       "\t\t<dd>0</dd>\n",
       "\t<dt>OnlineBackup</dt>\n",
       "\t\t<dd>0</dd>\n",
       "\t<dt>DeviceProtection</dt>\n",
       "\t\t<dd>0</dd>\n",
       "\t<dt>TechSupport</dt>\n",
       "\t\t<dd>0</dd>\n",
       "\t<dt>StreamingTV</dt>\n",
       "\t\t<dd>0</dd>\n",
       "\t<dt>StreamingMovies</dt>\n",
       "\t\t<dd>0</dd>\n",
       "\t<dt>Contract</dt>\n",
       "\t\t<dd>0</dd>\n",
       "\t<dt>PaperlessBilling</dt>\n",
       "\t\t<dd>0</dd>\n",
       "\t<dt>PaymentMethod</dt>\n",
       "\t\t<dd>0</dd>\n",
       "\t<dt>MonthlyCharges</dt>\n",
       "\t\t<dd>0</dd>\n",
       "\t<dt>TotalCharges</dt>\n",
       "\t\t<dd>11</dd>\n",
       "\t<dt>Churn</dt>\n",
       "\t\t<dd>0</dd>\n",
       "</dl>\n"
      ],
      "text/latex": [
       "\\begin{description*}\n",
       "\\item[gender] 0\n",
       "\\item[SeniorCitizen] 0\n",
       "\\item[Partner] 0\n",
       "\\item[Dependents] 0\n",
       "\\item[tenure] 0\n",
       "\\item[PhoneService] 0\n",
       "\\item[MultipleLines] 0\n",
       "\\item[InternetService] 0\n",
       "\\item[OnlineSecurity] 0\n",
       "\\item[OnlineBackup] 0\n",
       "\\item[DeviceProtection] 0\n",
       "\\item[TechSupport] 0\n",
       "\\item[StreamingTV] 0\n",
       "\\item[StreamingMovies] 0\n",
       "\\item[Contract] 0\n",
       "\\item[PaperlessBilling] 0\n",
       "\\item[PaymentMethod] 0\n",
       "\\item[MonthlyCharges] 0\n",
       "\\item[TotalCharges] 11\n",
       "\\item[Churn] 0\n",
       "\\end{description*}\n"
      ],
      "text/markdown": [
       "gender\n",
       ":   0SeniorCitizen\n",
       ":   0Partner\n",
       ":   0Dependents\n",
       ":   0tenure\n",
       ":   0PhoneService\n",
       ":   0MultipleLines\n",
       ":   0InternetService\n",
       ":   0OnlineSecurity\n",
       ":   0OnlineBackup\n",
       ":   0DeviceProtection\n",
       ":   0TechSupport\n",
       ":   0StreamingTV\n",
       ":   0StreamingMovies\n",
       ":   0Contract\n",
       ":   0PaperlessBilling\n",
       ":   0PaymentMethod\n",
       ":   0MonthlyCharges\n",
       ":   0TotalCharges\n",
       ":   11Churn\n",
       ":   0\n",
       "\n"
      ],
      "text/plain": [
       "          gender    SeniorCitizen          Partner       Dependents \n",
       "               0                0                0                0 \n",
       "          tenure     PhoneService    MultipleLines  InternetService \n",
       "               0                0                0                0 \n",
       "  OnlineSecurity     OnlineBackup DeviceProtection      TechSupport \n",
       "               0                0                0                0 \n",
       "     StreamingTV  StreamingMovies         Contract PaperlessBilling \n",
       "               0                0                0                0 \n",
       "   PaymentMethod   MonthlyCharges     TotalCharges            Churn \n",
       "               0                0               11                0 "
      ]
     },
     "metadata": {},
     "output_type": "display_data"
    }
   ],
   "source": [
    "sapply(df, function(x) sum(is.na(x)))"
   ]
  },
  {
   "cell_type": "code",
   "execution_count": 10,
   "metadata": {},
   "outputs": [
    {
     "data": {
      "text/html": [
       "<table>\n",
       "<thead><tr><th></th><th scope=col>gender</th><th scope=col>SeniorCitizen</th><th scope=col>Partner</th><th scope=col>Dependents</th><th scope=col>tenure</th><th scope=col>PhoneService</th><th scope=col>MultipleLines</th><th scope=col>InternetService</th><th scope=col>OnlineSecurity</th><th scope=col>OnlineBackup</th><th scope=col>DeviceProtection</th><th scope=col>TechSupport</th><th scope=col>StreamingTV</th><th scope=col>StreamingMovies</th><th scope=col>Contract</th><th scope=col>PaperlessBilling</th><th scope=col>PaymentMethod</th><th scope=col>MonthlyCharges</th><th scope=col>TotalCharges</th><th scope=col>Churn</th></tr></thead>\n",
       "<tbody>\n",
       "\t<tr><th scope=row>489</th><td>Female                   </td><td>0                        </td><td>Yes                      </td><td>Yes                      </td><td>0                        </td><td>No                       </td><td>No phone service         </td><td>DSL                      </td><td>Yes                      </td><td>No                       </td><td>Yes                      </td><td>Yes                      </td><td>Yes                      </td><td>No                       </td><td>Two year                 </td><td>Yes                      </td><td>Bank transfer (automatic)</td><td>52.55                    </td><td>NA                       </td><td>No                       </td></tr>\n",
       "\t<tr><th scope=row>754</th><td>Male                     </td><td>0                        </td><td>No                       </td><td>Yes                      </td><td>0                        </td><td>Yes                      </td><td>No                       </td><td>No                       </td><td>No internet service      </td><td>No internet service      </td><td>No internet service      </td><td>No internet service      </td><td>No internet service      </td><td>No internet service      </td><td>Two year                 </td><td>No                       </td><td>Mailed check             </td><td>20.25                    </td><td>NA                       </td><td>No                       </td></tr>\n",
       "\t<tr><th scope=row>937</th><td>Female                   </td><td>0                        </td><td>Yes                      </td><td>Yes                      </td><td>0                        </td><td>Yes                      </td><td>No                       </td><td>DSL                      </td><td>Yes                      </td><td>Yes                      </td><td>Yes                      </td><td>No                       </td><td>Yes                      </td><td>Yes                      </td><td>Two year                 </td><td>No                       </td><td>Mailed check             </td><td>80.85                    </td><td>NA                       </td><td>No                       </td></tr>\n",
       "\t<tr><th scope=row>1083</th><td>Male                     </td><td>0                        </td><td>Yes                      </td><td>Yes                      </td><td>0                        </td><td>Yes                      </td><td>Yes                      </td><td>No                       </td><td>No internet service      </td><td>No internet service      </td><td>No internet service      </td><td>No internet service      </td><td>No internet service      </td><td>No internet service      </td><td>Two year                 </td><td>No                       </td><td>Mailed check             </td><td>25.75                    </td><td>NA                       </td><td>No                       </td></tr>\n",
       "\t<tr><th scope=row>1341</th><td>Female                   </td><td>0                        </td><td>Yes                      </td><td>Yes                      </td><td>0                        </td><td>No                       </td><td>No phone service         </td><td>DSL                      </td><td>Yes                      </td><td>Yes                      </td><td>Yes                      </td><td>Yes                      </td><td>Yes                      </td><td>No                       </td><td>Two year                 </td><td>No                       </td><td>Credit card (automatic)  </td><td>56.05                    </td><td>NA                       </td><td>No                       </td></tr>\n",
       "\t<tr><th scope=row>3332</th><td>Male                     </td><td>0                        </td><td>Yes                      </td><td>Yes                      </td><td>0                        </td><td>Yes                      </td><td>No                       </td><td>No                       </td><td>No internet service      </td><td>No internet service      </td><td>No internet service      </td><td>No internet service      </td><td>No internet service      </td><td>No internet service      </td><td>Two year                 </td><td>No                       </td><td>Mailed check             </td><td>19.85                    </td><td>NA                       </td><td>No                       </td></tr>\n",
       "\t<tr><th scope=row>3827</th><td>Male                     </td><td>0                        </td><td>Yes                      </td><td>Yes                      </td><td>0                        </td><td>Yes                      </td><td>Yes                      </td><td>No                       </td><td>No internet service      </td><td>No internet service      </td><td>No internet service      </td><td>No internet service      </td><td>No internet service      </td><td>No internet service      </td><td>Two year                 </td><td>No                       </td><td>Mailed check             </td><td>25.35                    </td><td>NA                       </td><td>No                       </td></tr>\n",
       "\t<tr><th scope=row>4381</th><td>Female                   </td><td>0                        </td><td>Yes                      </td><td>Yes                      </td><td>0                        </td><td>Yes                      </td><td>No                       </td><td>No                       </td><td>No internet service      </td><td>No internet service      </td><td>No internet service      </td><td>No internet service      </td><td>No internet service      </td><td>No internet service      </td><td>Two year                 </td><td>No                       </td><td>Mailed check             </td><td>20.00                    </td><td>NA                       </td><td>No                       </td></tr>\n",
       "\t<tr><th scope=row>5219</th><td>Male                     </td><td>0                        </td><td>Yes                      </td><td>Yes                      </td><td>0                        </td><td>Yes                      </td><td>No                       </td><td>No                       </td><td>No internet service      </td><td>No internet service      </td><td>No internet service      </td><td>No internet service      </td><td>No internet service      </td><td>No internet service      </td><td>One year                 </td><td>Yes                      </td><td>Mailed check             </td><td>19.70                    </td><td>NA                       </td><td>No                       </td></tr>\n",
       "\t<tr><th scope=row>6671</th><td>Female                   </td><td>0                        </td><td>Yes                      </td><td>Yes                      </td><td>0                        </td><td>Yes                      </td><td>Yes                      </td><td>DSL                      </td><td>No                       </td><td>Yes                      </td><td>Yes                      </td><td>Yes                      </td><td>Yes                      </td><td>No                       </td><td>Two year                 </td><td>No                       </td><td>Mailed check             </td><td>73.35                    </td><td>NA                       </td><td>No                       </td></tr>\n",
       "\t<tr><th scope=row>6755</th><td>Male                     </td><td>0                        </td><td>No                       </td><td>Yes                      </td><td>0                        </td><td>Yes                      </td><td>Yes                      </td><td>DSL                      </td><td>Yes                      </td><td>Yes                      </td><td>No                       </td><td>Yes                      </td><td>No                       </td><td>No                       </td><td>Two year                 </td><td>Yes                      </td><td>Bank transfer (automatic)</td><td>61.90                    </td><td>NA                       </td><td>No                       </td></tr>\n",
       "</tbody>\n",
       "</table>\n"
      ],
      "text/latex": [
       "\\begin{tabular}{r|llllllllllllllllllll}\n",
       "  & gender & SeniorCitizen & Partner & Dependents & tenure & PhoneService & MultipleLines & InternetService & OnlineSecurity & OnlineBackup & DeviceProtection & TechSupport & StreamingTV & StreamingMovies & Contract & PaperlessBilling & PaymentMethod & MonthlyCharges & TotalCharges & Churn\\\\\n",
       "\\hline\n",
       "\t489 & Female                    & 0                         & Yes                       & Yes                       & 0                         & No                        & No phone service          & DSL                       & Yes                       & No                        & Yes                       & Yes                       & Yes                       & No                        & Two year                  & Yes                       & Bank transfer (automatic) & 52.55                     & NA                        & No                       \\\\\n",
       "\t754 & Male                      & 0                         & No                        & Yes                       & 0                         & Yes                       & No                        & No                        & No internet service       & No internet service       & No internet service       & No internet service       & No internet service       & No internet service       & Two year                  & No                        & Mailed check              & 20.25                     & NA                        & No                       \\\\\n",
       "\t937 & Female                    & 0                         & Yes                       & Yes                       & 0                         & Yes                       & No                        & DSL                       & Yes                       & Yes                       & Yes                       & No                        & Yes                       & Yes                       & Two year                  & No                        & Mailed check              & 80.85                     & NA                        & No                       \\\\\n",
       "\t1083 & Male                      & 0                         & Yes                       & Yes                       & 0                         & Yes                       & Yes                       & No                        & No internet service       & No internet service       & No internet service       & No internet service       & No internet service       & No internet service       & Two year                  & No                        & Mailed check              & 25.75                     & NA                        & No                       \\\\\n",
       "\t1341 & Female                    & 0                         & Yes                       & Yes                       & 0                         & No                        & No phone service          & DSL                       & Yes                       & Yes                       & Yes                       & Yes                       & Yes                       & No                        & Two year                  & No                        & Credit card (automatic)   & 56.05                     & NA                        & No                       \\\\\n",
       "\t3332 & Male                      & 0                         & Yes                       & Yes                       & 0                         & Yes                       & No                        & No                        & No internet service       & No internet service       & No internet service       & No internet service       & No internet service       & No internet service       & Two year                  & No                        & Mailed check              & 19.85                     & NA                        & No                       \\\\\n",
       "\t3827 & Male                      & 0                         & Yes                       & Yes                       & 0                         & Yes                       & Yes                       & No                        & No internet service       & No internet service       & No internet service       & No internet service       & No internet service       & No internet service       & Two year                  & No                        & Mailed check              & 25.35                     & NA                        & No                       \\\\\n",
       "\t4381 & Female                    & 0                         & Yes                       & Yes                       & 0                         & Yes                       & No                        & No                        & No internet service       & No internet service       & No internet service       & No internet service       & No internet service       & No internet service       & Two year                  & No                        & Mailed check              & 20.00                     & NA                        & No                       \\\\\n",
       "\t5219 & Male                      & 0                         & Yes                       & Yes                       & 0                         & Yes                       & No                        & No                        & No internet service       & No internet service       & No internet service       & No internet service       & No internet service       & No internet service       & One year                  & Yes                       & Mailed check              & 19.70                     & NA                        & No                       \\\\\n",
       "\t6671 & Female                    & 0                         & Yes                       & Yes                       & 0                         & Yes                       & Yes                       & DSL                       & No                        & Yes                       & Yes                       & Yes                       & Yes                       & No                        & Two year                  & No                        & Mailed check              & 73.35                     & NA                        & No                       \\\\\n",
       "\t6755 & Male                      & 0                         & No                        & Yes                       & 0                         & Yes                       & Yes                       & DSL                       & Yes                       & Yes                       & No                        & Yes                       & No                        & No                        & Two year                  & Yes                       & Bank transfer (automatic) & 61.90                     & NA                        & No                       \\\\\n",
       "\\end{tabular}\n"
      ],
      "text/markdown": [
       "\n",
       "| <!--/--> | gender | SeniorCitizen | Partner | Dependents | tenure | PhoneService | MultipleLines | InternetService | OnlineSecurity | OnlineBackup | DeviceProtection | TechSupport | StreamingTV | StreamingMovies | Contract | PaperlessBilling | PaymentMethod | MonthlyCharges | TotalCharges | Churn |\n",
       "|---|---|---|---|---|---|---|---|---|---|---|---|---|---|---|---|---|---|---|---|---|\n",
       "| 489 | Female                    | 0                         | Yes                       | Yes                       | 0                         | No                        | No phone service          | DSL                       | Yes                       | No                        | Yes                       | Yes                       | Yes                       | No                        | Two year                  | Yes                       | Bank transfer (automatic) | 52.55                     | NA                        | No                        |\n",
       "| 754 | Male                      | 0                         | No                        | Yes                       | 0                         | Yes                       | No                        | No                        | No internet service       | No internet service       | No internet service       | No internet service       | No internet service       | No internet service       | Two year                  | No                        | Mailed check              | 20.25                     | NA                        | No                        |\n",
       "| 937 | Female                    | 0                         | Yes                       | Yes                       | 0                         | Yes                       | No                        | DSL                       | Yes                       | Yes                       | Yes                       | No                        | Yes                       | Yes                       | Two year                  | No                        | Mailed check              | 80.85                     | NA                        | No                        |\n",
       "| 1083 | Male                      | 0                         | Yes                       | Yes                       | 0                         | Yes                       | Yes                       | No                        | No internet service       | No internet service       | No internet service       | No internet service       | No internet service       | No internet service       | Two year                  | No                        | Mailed check              | 25.75                     | NA                        | No                        |\n",
       "| 1341 | Female                    | 0                         | Yes                       | Yes                       | 0                         | No                        | No phone service          | DSL                       | Yes                       | Yes                       | Yes                       | Yes                       | Yes                       | No                        | Two year                  | No                        | Credit card (automatic)   | 56.05                     | NA                        | No                        |\n",
       "| 3332 | Male                      | 0                         | Yes                       | Yes                       | 0                         | Yes                       | No                        | No                        | No internet service       | No internet service       | No internet service       | No internet service       | No internet service       | No internet service       | Two year                  | No                        | Mailed check              | 19.85                     | NA                        | No                        |\n",
       "| 3827 | Male                      | 0                         | Yes                       | Yes                       | 0                         | Yes                       | Yes                       | No                        | No internet service       | No internet service       | No internet service       | No internet service       | No internet service       | No internet service       | Two year                  | No                        | Mailed check              | 25.35                     | NA                        | No                        |\n",
       "| 4381 | Female                    | 0                         | Yes                       | Yes                       | 0                         | Yes                       | No                        | No                        | No internet service       | No internet service       | No internet service       | No internet service       | No internet service       | No internet service       | Two year                  | No                        | Mailed check              | 20.00                     | NA                        | No                        |\n",
       "| 5219 | Male                      | 0                         | Yes                       | Yes                       | 0                         | Yes                       | No                        | No                        | No internet service       | No internet service       | No internet service       | No internet service       | No internet service       | No internet service       | One year                  | Yes                       | Mailed check              | 19.70                     | NA                        | No                        |\n",
       "| 6671 | Female                    | 0                         | Yes                       | Yes                       | 0                         | Yes                       | Yes                       | DSL                       | No                        | Yes                       | Yes                       | Yes                       | Yes                       | No                        | Two year                  | No                        | Mailed check              | 73.35                     | NA                        | No                        |\n",
       "| 6755 | Male                      | 0                         | No                        | Yes                       | 0                         | Yes                       | Yes                       | DSL                       | Yes                       | Yes                       | No                        | Yes                       | No                        | No                        | Two year                  | Yes                       | Bank transfer (automatic) | 61.90                     | NA                        | No                        |\n",
       "\n"
      ],
      "text/plain": [
       "     gender SeniorCitizen Partner Dependents tenure PhoneService\n",
       "489  Female 0             Yes     Yes        0      No          \n",
       "754  Male   0             No      Yes        0      Yes         \n",
       "937  Female 0             Yes     Yes        0      Yes         \n",
       "1083 Male   0             Yes     Yes        0      Yes         \n",
       "1341 Female 0             Yes     Yes        0      No          \n",
       "3332 Male   0             Yes     Yes        0      Yes         \n",
       "3827 Male   0             Yes     Yes        0      Yes         \n",
       "4381 Female 0             Yes     Yes        0      Yes         \n",
       "5219 Male   0             Yes     Yes        0      Yes         \n",
       "6671 Female 0             Yes     Yes        0      Yes         \n",
       "6755 Male   0             No      Yes        0      Yes         \n",
       "     MultipleLines    InternetService OnlineSecurity      OnlineBackup       \n",
       "489  No phone service DSL             Yes                 No                 \n",
       "754  No               No              No internet service No internet service\n",
       "937  No               DSL             Yes                 Yes                \n",
       "1083 Yes              No              No internet service No internet service\n",
       "1341 No phone service DSL             Yes                 Yes                \n",
       "3332 No               No              No internet service No internet service\n",
       "3827 Yes              No              No internet service No internet service\n",
       "4381 No               No              No internet service No internet service\n",
       "5219 No               No              No internet service No internet service\n",
       "6671 Yes              DSL             No                  Yes                \n",
       "6755 Yes              DSL             Yes                 Yes                \n",
       "     DeviceProtection    TechSupport         StreamingTV        \n",
       "489  Yes                 Yes                 Yes                \n",
       "754  No internet service No internet service No internet service\n",
       "937  Yes                 No                  Yes                \n",
       "1083 No internet service No internet service No internet service\n",
       "1341 Yes                 Yes                 Yes                \n",
       "3332 No internet service No internet service No internet service\n",
       "3827 No internet service No internet service No internet service\n",
       "4381 No internet service No internet service No internet service\n",
       "5219 No internet service No internet service No internet service\n",
       "6671 Yes                 Yes                 Yes                \n",
       "6755 No                  Yes                 No                 \n",
       "     StreamingMovies     Contract PaperlessBilling PaymentMethod            \n",
       "489  No                  Two year Yes              Bank transfer (automatic)\n",
       "754  No internet service Two year No               Mailed check             \n",
       "937  Yes                 Two year No               Mailed check             \n",
       "1083 No internet service Two year No               Mailed check             \n",
       "1341 No                  Two year No               Credit card (automatic)  \n",
       "3332 No internet service Two year No               Mailed check             \n",
       "3827 No internet service Two year No               Mailed check             \n",
       "4381 No internet service Two year No               Mailed check             \n",
       "5219 No internet service One year Yes              Mailed check             \n",
       "6671 No                  Two year No               Mailed check             \n",
       "6755 No                  Two year Yes              Bank transfer (automatic)\n",
       "     MonthlyCharges TotalCharges Churn\n",
       "489  52.55          NA           No   \n",
       "754  20.25          NA           No   \n",
       "937  80.85          NA           No   \n",
       "1083 25.75          NA           No   \n",
       "1341 56.05          NA           No   \n",
       "3332 19.85          NA           No   \n",
       "3827 25.35          NA           No   \n",
       "4381 20.00          NA           No   \n",
       "5219 19.70          NA           No   \n",
       "6671 73.35          NA           No   \n",
       "6755 61.90          NA           No   "
      ]
     },
     "metadata": {},
     "output_type": "display_data"
    }
   ],
   "source": [
    "df[!complete.cases(df), ]"
   ]
  },
  {
   "cell_type": "code",
   "execution_count": 11,
   "metadata": {},
   "outputs": [],
   "source": [
    "df <- na.omit(df)"
   ]
  },
  {
   "cell_type": "markdown",
   "metadata": {},
   "source": [
    "# Explantory Data Analysis"
   ]
  },
  {
   "cell_type": "code",
   "execution_count": 12,
   "metadata": {},
   "outputs": [
    {
     "data": {
      "image/png": "[encoded data removed]",
      "text/plain": [
       "plot without title"
      ]
     },
     "metadata": {},
     "output_type": "display_data"
    }
   ],
   "source": [
    "percentData <- df %>% group_by(SeniorCitizen) %>% count(Churn) %>%\n",
    "    mutate(ratio=scales::percent(n/sum(n)))\n",
    "ggplot(df, aes(x = SeniorCitizen,fill=Churn)) +  \n",
    "geom_bar(position='fill') +\n",
    " geom_text(data=percentData, aes(y=n,label=ratio),\n",
    "              position=position_fill(vjust=0.5))"
   ]
  },
  {
   "cell_type": "code",
   "execution_count": 13,
   "metadata": {},
   "outputs": [
    {
     "data": {
      "image/png": "[encoded data removed]",
      "text/plain": [
       "plot without title"
      ]
     },
     "metadata": {},
     "output_type": "display_data"
    }
   ],
   "source": [
    "percentData <- df %>% group_by(Contract) %>% count(Churn) %>%\n",
    "    mutate(ratio=scales::percent(n/sum(n)))\n",
    "ggplot(df, aes(x = Contract,fill=Churn)) +  \n",
    "geom_bar(position='fill') +\n",
    " geom_text(data=percentData, aes(y=n,label=ratio),\n",
    "              position=position_fill(vjust=0.5))"
   ]
  },
  {
   "cell_type": "code",
   "execution_count": 14,
   "metadata": {},
   "outputs": [
    {
     "data": {
      "image/png": "[encoded data removed]",
      "text/plain": [
       "plot without title"
      ]
     },
     "metadata": {},
     "output_type": "display_data"
    }
   ],
   "source": [
    "percentData <- df %>% group_by(OnlineSecurity) %>% count(Churn) %>%\n",
    "    mutate(ratio=scales::percent(n/sum(n)))\n",
    "ggplot(df, aes(x = OnlineSecurity,fill=Churn)) +  \n",
    "geom_bar(position='fill') +\n",
    " geom_text(data=percentData, aes(y=n,label=ratio),\n",
    "              position=position_fill(vjust=0.5))"
   ]
  },
  {
   "cell_type": "code",
   "execution_count": 15,
   "metadata": {},
   "outputs": [
    {
     "data": {
      "image/png": "[encoded data removed]",
      "text/plain": [
       "plot without title"
      ]
     },
     "metadata": {},
     "output_type": "display_data"
    }
   ],
   "source": [
    "percentData <- df %>% group_by(InternetService) %>% count(Churn) %>%\n",
    "    mutate(ratio=scales::percent(n/sum(n)))\n",
    "ggplot(df, aes(x = InternetService,fill=Churn)) +  \n",
    "geom_bar(position='fill') +\n",
    " geom_text(data=percentData, aes(y=n,label=ratio),\n",
    "              position=position_fill(vjust=0.5))"
   ]
  },
  {
   "cell_type": "code",
   "execution_count": 16,
   "metadata": {},
   "outputs": [
    {
     "data": {
      "image/png": "[encoded data removed]",
      "text/plain": [
       "plot without title"
      ]
     },
     "metadata": {},
     "output_type": "display_data"
    }
   ],
   "source": [
    "percentData <- df %>% group_by(TechSupport) %>% count(Churn) %>%\n",
    "    mutate(ratio=scales::percent(n/sum(n)))\n",
    "ggplot(df, aes(x = TechSupport,fill=Churn)) +  \n",
    "geom_bar(position='fill') +\n",
    " geom_text(data=percentData, aes(y=n,label=ratio),\n",
    "              position=position_fill(vjust=0.5))"
   ]
  },
  {
   "cell_type": "code",
   "execution_count": 17,
   "metadata": {},
   "outputs": [
    {
     "data": {
      "image/png": "[encoded data removed]",
      "text/plain": [
       "Plot with title \"\""
      ]
     },
     "metadata": {},
     "output_type": "display_data"
    }
   ],
   "source": [
    "corrplot(cor(df[c(5,18,19)]), method = \"color\",tl.col=\"black\", tl.cex=0.8, tl.srt=60)"
   ]
  },
  {
   "cell_type": "code",
   "execution_count": 18,
   "metadata": {},
   "outputs": [
    {
     "data": {
      "image/png": "[encoded data removed]",
      "text/plain": [
       "plot without title"
      ]
     },
     "metadata": {},
     "output_type": "display_data"
    }
   ],
   "source": [
    "ggplot(df, aes(x=tenure, y=TotalCharges)) +\n",
    "geom_point()"
   ]
  },
  {
   "cell_type": "markdown",
   "metadata": {},
   "source": [
    "## Spliting Data into Train/Test Set"
   ]
  },
  {
   "cell_type": "code",
   "execution_count": 19,
   "metadata": {},
   "outputs": [],
   "source": [
    "set.seed(430)\n",
    "index = createDataPartition(df$Churn, p = 0.75, list = FALSE)\n",
    "train = df[index,]\n",
    "test = df[-index,]"
   ]
  },
  {
   "cell_type": "markdown",
   "metadata": {},
   "source": [
    "# Logisitic Regression Model"
   ]
  },
  {
   "cell_type": "code",
   "execution_count": 20,
   "metadata": {},
   "outputs": [],
   "source": [
    "model <- glm(Churn ~ ., family = \"binomial\", train)"
   ]
  },
  {
   "cell_type": "code",
   "execution_count": 21,
   "metadata": {},
   "outputs": [
    {
     "name": "stderr",
     "output_type": "stream",
     "text": [
      "Warning message in predict.lm(object, newdata, se.fit, scale = 1, type = if (type == :\n",
      "\"prediction from a rank-deficient fit may be misleading\""
     ]
    }
   ],
   "source": [
    "pred<- predict(model, test,type='response')"
   ]
  },
  {
   "cell_type": "code",
   "execution_count": 22,
   "metadata": {},
   "outputs": [],
   "source": [
    "pred_class <- ifelse(pred>0.5,'Yes','No')"
   ]
  },
  {
   "cell_type": "code",
   "execution_count": 23,
   "metadata": {},
   "outputs": [
    {
     "data": {
      "text/plain": [
       "Confusion Matrix and Statistics\n",
       "\n",
       "          Reference\n",
       "Prediction   No  Yes\n",
       "       No  1176  209\n",
       "       Yes  114  258\n",
       "                                         \n",
       "               Accuracy : 0.8162         \n",
       "                 95% CI : (0.7972, 0.834)\n",
       "    No Information Rate : 0.7342         \n",
       "    P-Value [Acc > NIR] : 4.163e-16      \n",
       "                                         \n",
       "                  Kappa : 0.4963         \n",
       "                                         \n",
       " Mcnemar's Test P-Value : 1.692e-07      \n",
       "                                         \n",
       "            Sensitivity : 0.9116         \n",
       "            Specificity : 0.5525         \n",
       "         Pos Pred Value : 0.8491         \n",
       "         Neg Pred Value : 0.6935         \n",
       "             Prevalence : 0.7342         \n",
       "         Detection Rate : 0.6693         \n",
       "   Detection Prevalence : 0.7883         \n",
       "      Balanced Accuracy : 0.7320         \n",
       "                                         \n",
       "       'Positive' Class : No             \n",
       "                                         "
      ]
     },
     "metadata": {},
     "output_type": "display_data"
    }
   ],
   "source": [
    "confusionMatrix(as.factor(pred_class),test$Churn)"
   ]
  },
  {
   "cell_type": "code",
   "execution_count": 24,
   "metadata": {},
   "outputs": [
    {
     "data": {
      "text/html": [
       "<table>\n",
       "<tbody>\n",
       "\t<tr><th scope=row>No vs. Yes</th><td>0.8636671</td></tr>\n",
       "</tbody>\n",
       "</table>\n"
      ],
      "text/latex": [
       "\\begin{tabular}{r|l}\n",
       "\tNo vs. Yes & 0.8636671\\\\\n",
       "\\end{tabular}\n"
      ],
      "text/markdown": [
       "\n",
       "| No vs. Yes | 0.8636671 |\n",
       "\n"
      ],
      "text/plain": [
       "           [,1]     \n",
       "No vs. Yes 0.8636671"
      ]
     },
     "metadata": {},
     "output_type": "display_data"
    },
    {
     "data": {
      "image/png": "[encoded data removed]",
      "text/plain": [
       "Plot with title \"ROC Curves\""
      ]
     },
     "metadata": {},
     "output_type": "display_data"
    }
   ],
   "source": [
    "colAUC(pred, test$Churn, plotROC = TRUE)"
   ]
  },
  {
   "cell_type": "markdown",
   "metadata": {},
   "source": [
    "# Decision Tree Model"
   ]
  },
  {
   "cell_type": "code",
   "execution_count": 25,
   "metadata": {},
   "outputs": [
    {
     "data": {
      "image/png": "[encoded data removed]",
      "text/plain": [
       "plot without title"
      ]
     },
     "metadata": {},
     "output_type": "display_data"
    }
   ],
   "source": [
    "tree <- rpart(Churn~., data=train, cp=.02)\n",
    "rpart.plot(tree, box.palette=\"RdBu\", shadow.col=\"gray\", nn=TRUE)"
   ]
  },
  {
   "cell_type": "code",
   "execution_count": 26,
   "metadata": {},
   "outputs": [],
   "source": [
    "predict_tree <- predict(tree,test,type='class')"
   ]
  },
  {
   "cell_type": "code",
   "execution_count": 27,
   "metadata": {},
   "outputs": [
    {
     "data": {
      "text/plain": [
       "Confusion Matrix and Statistics\n",
       "\n",
       "          Reference\n",
       "Prediction   No  Yes\n",
       "       No  1215  279\n",
       "       Yes   75  188\n",
       "                                        \n",
       "               Accuracy : 0.7985        \n",
       "                 95% CI : (0.779, 0.817)\n",
       "    No Information Rate : 0.7342        \n",
       "    P-Value [Acc > NIR] : 2.05e-10      \n",
       "                                        \n",
       "                  Kappa : 0.4002        \n",
       "                                        \n",
       " Mcnemar's Test P-Value : < 2.2e-16     \n",
       "                                        \n",
       "            Sensitivity : 0.9419        \n",
       "            Specificity : 0.4026        \n",
       "         Pos Pred Value : 0.8133        \n",
       "         Neg Pred Value : 0.7148        \n",
       "             Prevalence : 0.7342        \n",
       "         Detection Rate : 0.6915        \n",
       "   Detection Prevalence : 0.8503        \n",
       "      Balanced Accuracy : 0.6722        \n",
       "                                        \n",
       "       'Positive' Class : No            \n",
       "                                        "
      ]
     },
     "metadata": {},
     "output_type": "display_data"
    }
   ],
   "source": [
    "confusionMatrix(predict_tree,test$Churn)"
   ]
  },
  {
   "cell_type": "code",
   "execution_count": 28,
   "metadata": {},
   "outputs": [
    {
     "data": {
      "text/html": [
       "<dl class=dl-horizontal>\n",
       "\t<dt>Contract</dt>\n",
       "\t\t<dd>318.20559275055</dd>\n",
       "\t<dt>tenure</dt>\n",
       "\t\t<dd>234.558983468382</dd>\n",
       "\t<dt>TotalCharges</dt>\n",
       "\t\t<dd>160.584822509338</dd>\n",
       "\t<dt>OnlineSecurity</dt>\n",
       "\t\t<dd>136.763182081286</dd>\n",
       "\t<dt>DeviceProtection</dt>\n",
       "\t\t<dd>129.00050258641</dd>\n",
       "\t<dt>TechSupport</dt>\n",
       "\t\t<dd>114.543194670513</dd>\n",
       "\t<dt>MonthlyCharges</dt>\n",
       "\t\t<dd>111.779109884761</dd>\n",
       "\t<dt>InternetService</dt>\n",
       "\t\t<dd>102.074817731258</dd>\n",
       "\t<dt>MultipleLines</dt>\n",
       "\t\t<dd>46.5678330533534</dd>\n",
       "\t<dt>OnlineBackup</dt>\n",
       "\t\t<dd>44.0327471236081</dd>\n",
       "\t<dt>Partner</dt>\n",
       "\t\t<dd>13.335920267982</dd>\n",
       "</dl>\n"
      ],
      "text/latex": [
       "\\begin{description*}\n",
       "\\item[Contract] 318.20559275055\n",
       "\\item[tenure] 234.558983468382\n",
       "\\item[TotalCharges] 160.584822509338\n",
       "\\item[OnlineSecurity] 136.763182081286\n",
       "\\item[DeviceProtection] 129.00050258641\n",
       "\\item[TechSupport] 114.543194670513\n",
       "\\item[MonthlyCharges] 111.779109884761\n",
       "\\item[InternetService] 102.074817731258\n",
       "\\item[MultipleLines] 46.5678330533534\n",
       "\\item[OnlineBackup] 44.0327471236081\n",
       "\\item[Partner] 13.335920267982\n",
       "\\end{description*}\n"
      ],
      "text/markdown": [
       "Contract\n",
       ":   318.20559275055tenure\n",
       ":   234.558983468382TotalCharges\n",
       ":   160.584822509338OnlineSecurity\n",
       ":   136.763182081286DeviceProtection\n",
       ":   129.00050258641TechSupport\n",
       ":   114.543194670513MonthlyCharges\n",
       ":   111.779109884761InternetService\n",
       ":   102.074817731258MultipleLines\n",
       ":   46.5678330533534OnlineBackup\n",
       ":   44.0327471236081Partner\n",
       ":   13.335920267982\n",
       "\n"
      ],
      "text/plain": [
       "        Contract           tenure     TotalCharges   OnlineSecurity \n",
       "       318.20559        234.55898        160.58482        136.76318 \n",
       "DeviceProtection      TechSupport   MonthlyCharges  InternetService \n",
       "       129.00050        114.54319        111.77911        102.07482 \n",
       "   MultipleLines     OnlineBackup          Partner \n",
       "        46.56783         44.03275         13.33592 "
      ]
     },
     "metadata": {},
     "output_type": "display_data"
    }
   ],
   "source": [
    "tree$variable.importance"
   ]
  }
 ],
 "metadata": {
  "kernelspec": {
   "display_name": "R",
   "language": "R",
   "name": "ir"
  },
  "language_info": {
   "codemirror_mode": "r",
   "file_extension": ".r",
   "mimetype": "text/x-r-source",
   "name": "R",
   "pygments_lexer": "r",
   "version": "3.6.1"
  }
 },
 "nbformat": 4,
 "nbformat_minor": 2
}
